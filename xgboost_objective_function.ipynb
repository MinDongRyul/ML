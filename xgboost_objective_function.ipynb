{
 "cells": [
  {
   "cell_type": "markdown",
   "id": "71332a7c",
   "metadata": {},
   "source": [
    "## 이론 설명\n",
    "- [ML-objective-function](https://dongryul.notion.site/ML-xgboost-objective-function-1cfa91f49fdb804ebf02f05b4c390447?pvs=4)"
   ]
  },
  {
   "cell_type": "markdown",
   "id": "7de97a1e",
   "metadata": {},
   "source": [
    "## load lib"
   ]
  },
  {
   "cell_type": "code",
   "execution_count": 1,
   "id": "70e971e2",
   "metadata": {},
   "outputs": [],
   "source": [
    "import pandas as pd\n",
    "import numpy as np\n",
    "\n",
    "from xgboost import XGBClassifier\n",
    "from sklearn.datasets import load_iris\n",
    "from sklearn.model_selection import train_test_split, StratifiedKFold\n",
    "from sklearn.metrics import accuracy_score, precision_score, recall_score, f1_score, confusion_matrix, ndcg_score\n",
    "from sklearn.utils.class_weight import compute_class_weight\n",
    "\n",
    "from typing import Tuple"
   ]
  },
  {
   "cell_type": "markdown",
   "id": "2efc354a",
   "metadata": {},
   "source": [
    "## load data"
   ]
  },
  {
   "cell_type": "code",
   "execution_count": 2,
   "id": "25be9322",
   "metadata": {},
   "outputs": [],
   "source": [
    "x, y = load_iris(return_X_y=True)"
   ]
  },
  {
   "cell_type": "code",
   "execution_count": 3,
   "id": "bee0751f",
   "metadata": {},
   "outputs": [
    {
     "data": {
      "text/plain": [
       "array(['setosa', 'versicolor', 'virginica'], dtype='<U10')"
      ]
     },
     "execution_count": 3,
     "metadata": {},
     "output_type": "execute_result"
    }
   ],
   "source": [
    "load_iris().target_names"
   ]
  },
  {
   "cell_type": "code",
   "execution_count": 4,
   "id": "de10c979",
   "metadata": {},
   "outputs": [],
   "source": [
    "iris_df = pd.DataFrame(x, columns=load_iris().feature_names)\n",
    "iris_df['target'] = y"
   ]
  },
  {
   "cell_type": "code",
   "execution_count": 5,
   "id": "31d9924d",
   "metadata": {},
   "outputs": [
    {
     "data": {
      "text/html": [
       "<div>\n",
       "<style scoped>\n",
       "    .dataframe tbody tr th:only-of-type {\n",
       "        vertical-align: middle;\n",
       "    }\n",
       "\n",
       "    .dataframe tbody tr th {\n",
       "        vertical-align: top;\n",
       "    }\n",
       "\n",
       "    .dataframe thead th {\n",
       "        text-align: right;\n",
       "    }\n",
       "</style>\n",
       "<table border=\"1\" class=\"dataframe\">\n",
       "  <thead>\n",
       "    <tr style=\"text-align: right;\">\n",
       "      <th></th>\n",
       "      <th>sepal length (cm)</th>\n",
       "      <th>sepal width (cm)</th>\n",
       "      <th>petal length (cm)</th>\n",
       "      <th>petal width (cm)</th>\n",
       "      <th>target</th>\n",
       "    </tr>\n",
       "  </thead>\n",
       "  <tbody>\n",
       "    <tr>\n",
       "      <th>0</th>\n",
       "      <td>5.1</td>\n",
       "      <td>3.5</td>\n",
       "      <td>1.4</td>\n",
       "      <td>0.2</td>\n",
       "      <td>0</td>\n",
       "    </tr>\n",
       "    <tr>\n",
       "      <th>1</th>\n",
       "      <td>4.9</td>\n",
       "      <td>3.0</td>\n",
       "      <td>1.4</td>\n",
       "      <td>0.2</td>\n",
       "      <td>0</td>\n",
       "    </tr>\n",
       "    <tr>\n",
       "      <th>2</th>\n",
       "      <td>4.7</td>\n",
       "      <td>3.2</td>\n",
       "      <td>1.3</td>\n",
       "      <td>0.2</td>\n",
       "      <td>0</td>\n",
       "    </tr>\n",
       "    <tr>\n",
       "      <th>3</th>\n",
       "      <td>4.6</td>\n",
       "      <td>3.1</td>\n",
       "      <td>1.5</td>\n",
       "      <td>0.2</td>\n",
       "      <td>0</td>\n",
       "    </tr>\n",
       "    <tr>\n",
       "      <th>4</th>\n",
       "      <td>5.0</td>\n",
       "      <td>3.6</td>\n",
       "      <td>1.4</td>\n",
       "      <td>0.2</td>\n",
       "      <td>0</td>\n",
       "    </tr>\n",
       "    <tr>\n",
       "      <th>...</th>\n",
       "      <td>...</td>\n",
       "      <td>...</td>\n",
       "      <td>...</td>\n",
       "      <td>...</td>\n",
       "      <td>...</td>\n",
       "    </tr>\n",
       "    <tr>\n",
       "      <th>145</th>\n",
       "      <td>6.7</td>\n",
       "      <td>3.0</td>\n",
       "      <td>5.2</td>\n",
       "      <td>2.3</td>\n",
       "      <td>2</td>\n",
       "    </tr>\n",
       "    <tr>\n",
       "      <th>146</th>\n",
       "      <td>6.3</td>\n",
       "      <td>2.5</td>\n",
       "      <td>5.0</td>\n",
       "      <td>1.9</td>\n",
       "      <td>2</td>\n",
       "    </tr>\n",
       "    <tr>\n",
       "      <th>147</th>\n",
       "      <td>6.5</td>\n",
       "      <td>3.0</td>\n",
       "      <td>5.2</td>\n",
       "      <td>2.0</td>\n",
       "      <td>2</td>\n",
       "    </tr>\n",
       "    <tr>\n",
       "      <th>148</th>\n",
       "      <td>6.2</td>\n",
       "      <td>3.4</td>\n",
       "      <td>5.4</td>\n",
       "      <td>2.3</td>\n",
       "      <td>2</td>\n",
       "    </tr>\n",
       "    <tr>\n",
       "      <th>149</th>\n",
       "      <td>5.9</td>\n",
       "      <td>3.0</td>\n",
       "      <td>5.1</td>\n",
       "      <td>1.8</td>\n",
       "      <td>2</td>\n",
       "    </tr>\n",
       "  </tbody>\n",
       "</table>\n",
       "<p>150 rows × 5 columns</p>\n",
       "</div>"
      ],
      "text/plain": [
       "     sepal length (cm)  sepal width (cm)  petal length (cm)  petal width (cm)   \n",
       "0                  5.1               3.5                1.4               0.2  \\\n",
       "1                  4.9               3.0                1.4               0.2   \n",
       "2                  4.7               3.2                1.3               0.2   \n",
       "3                  4.6               3.1                1.5               0.2   \n",
       "4                  5.0               3.6                1.4               0.2   \n",
       "..                 ...               ...                ...               ...   \n",
       "145                6.7               3.0                5.2               2.3   \n",
       "146                6.3               2.5                5.0               1.9   \n",
       "147                6.5               3.0                5.2               2.0   \n",
       "148                6.2               3.4                5.4               2.3   \n",
       "149                5.9               3.0                5.1               1.8   \n",
       "\n",
       "     target  \n",
       "0         0  \n",
       "1         0  \n",
       "2         0  \n",
       "3         0  \n",
       "4         0  \n",
       "..      ...  \n",
       "145       2  \n",
       "146       2  \n",
       "147       2  \n",
       "148       2  \n",
       "149       2  \n",
       "\n",
       "[150 rows x 5 columns]"
      ]
     },
     "execution_count": 5,
     "metadata": {},
     "output_type": "execute_result"
    }
   ],
   "source": [
    "iris_df"
   ]
  },
  {
   "cell_type": "code",
   "execution_count": 6,
   "id": "171ad26f",
   "metadata": {},
   "outputs": [
    {
     "data": {
      "text/plain": [
       "3"
      ]
     },
     "execution_count": 6,
     "metadata": {},
     "output_type": "execute_result"
    }
   ],
   "source": [
    "iris_df['target'].nunique()"
   ]
  },
  {
   "cell_type": "markdown",
   "id": "81c246fb",
   "metadata": {},
   "source": [
    "## objective function"
   ]
  },
  {
   "cell_type": "code",
   "execution_count": 7,
   "id": "846a4149",
   "metadata": {},
   "outputs": [],
   "source": [
    "class DefaultSoftprob:\n",
    "    def __init__(self, labels : pd.Series, eps : float = 1e-6):\n",
    "        self.kRows = labels.shape[0]\n",
    "        self.kClasses = labels.nunique()\n",
    "        self.weights = np.ones((labels.shape[0], 1), dtype=float)\n",
    "        self.eps = 1e-6\n",
    "        \n",
    "    def softmax(self, x):\n",
    "        e = np.exp(x)\n",
    "        return e / sum(e)\n",
    "    \n",
    "    def softprob_obj(self,\n",
    "                     labels : np.ndarray, \n",
    "                     preds : np.ndarray) -> Tuple[np.ndarray, np.ndarray]:\n",
    "        '''\n",
    "                input : \n",
    "                    labels : 학습데이터 target,\n",
    "                    preds : 예측 값\n",
    "                output : \n",
    "                    grad : loss gradient 값\n",
    "                    hess : loss hessian 값\n",
    "        '''\n",
    "\n",
    "        ## 아래는 label마다 weight를 주고 싶을때 사용하는 코드이다. \n",
    "        ## 현재는 data가 없기에 만약 아래처럼 weight를 주고 싶다면 함수를 Class화 하여서 weigfht를 지정한다음 가져다 쓰면 된다.\n",
    "        # if data.get_weight().size == 0:\n",
    "        #     # Use 1 as weight if we don't have custom weight.\n",
    "        #     weights = np.ones((kRows, 1), dtype=float)\n",
    "        # else:\n",
    "        #     weights = data.get_weight()\n",
    "\n",
    "        ## preds의 shape이 kRows, kClasses와 일치해야한다.\n",
    "        ## 당연히 맞을거라는 가정으로 진행해도 되지만 혹시나 하는 우려에 체크를 하는 것이 좋다.\n",
    "        assert preds.shape == (self.kRows, self.kClasses)\n",
    "\n",
    "        ## preds의 각 위치에 따른 grad과 hess를 구해야 하기에 preds.shape에 맞게 배열 구성\n",
    "        grad = np.zeros((preds.shape), dtype=float)\n",
    "        hess = np.zeros((preds.shape), dtype=float)\n",
    "\n",
    "        ## 아래 eps는 hess값이 0 또는 너무 작은값이 되는 것을 방지하기 위함\n",
    "        ## 왜 방지를 하느냐? -> 논문 수식을 보면 최적화된 어떤 값을 구하기 위한 식에서 hess가 분모값으로 들어가는데 이때 0이거나 너무 작은 값이면 학습의 불안정이 올수도 있기 때문이다.\n",
    "        \n",
    "        ## 이제 각 row를 돌면서 각 예측값에 대한 grad와 hess를 구한다.\n",
    "        for r in range(self.kRows):\n",
    "            target = labels[r]\n",
    "            p = self.softmax(preds[r, :])\n",
    "            for c in range(self.kClasses):\n",
    "                assert target >= 0 or target <= self.kClasses\n",
    "                ### weights의 경우 본인의 선택에 따라 주면 된다.(optional)\n",
    "                ## 아래 식의 경우 손실 함수를 1차 미분한 식\n",
    "                ## 답일 경우 p - y(labels = 1) 아닐 경우 p\n",
    "                g = p[c] - 1.0 if c == target else p[c]\n",
    "                g = g * self.weights[r]\n",
    "                ## 아래 식의 경우 손실 함수를 2차 미분한 식\n",
    "                h = max((2.0 * p[c] * (1.0 - p[c]) * self.weights[r]).item(), self.eps)\n",
    "                grad[r, c] = g\n",
    "                hess[r, c] = h\n",
    "\n",
    "        return grad, hess"
   ]
  },
  {
   "cell_type": "markdown",
   "id": "883011e4",
   "metadata": {},
   "source": [
    "## train with objective function"
   ]
  },
  {
   "cell_type": "code",
   "execution_count": 8,
   "id": "9c5988e2",
   "metadata": {},
   "outputs": [],
   "source": [
    "train = iris_df.iloc[:, :4]\n",
    "target = iris_df['target']"
   ]
  },
  {
   "cell_type": "code",
   "execution_count": 9,
   "id": "f6eced09",
   "metadata": {},
   "outputs": [
    {
     "data": {
      "text/plain": [
       "((135, 4), (15, 4), (135,), (15,))"
      ]
     },
     "execution_count": 9,
     "metadata": {},
     "output_type": "execute_result"
    }
   ],
   "source": [
    "x_train, x_test, y_train, y_test = train_test_split(train, target, \n",
    "                                                    stratify=target, \n",
    "                                                    test_size=0.1,  \n",
    "                                                    shuffle=True, \n",
    "                                                    random_state=42)\n",
    "\n",
    "x_train.shape, x_test.shape, y_train.shape, y_test.shape"
   ]
  },
  {
   "cell_type": "code",
   "execution_count": 10,
   "id": "32e5c6d9",
   "metadata": {
    "scrolled": false
   },
   "outputs": [
    {
     "name": "stdout",
     "output_type": "stream",
     "text": [
      "[0]\tvalidation_0-merror:0.06667\tvalidation_0-mlogloss:0.98014\n",
      "[10]\tvalidation_0-merror:0.06667\tvalidation_0-mlogloss:0.44263\n",
      "[20]\tvalidation_0-merror:0.06667\tvalidation_0-mlogloss:0.32237\n",
      "[30]\tvalidation_0-merror:0.06667\tvalidation_0-mlogloss:0.31159\n",
      "[31]\tvalidation_0-merror:0.06667\tvalidation_0-mlogloss:0.31304\n"
     ]
    },
    {
     "data": {
      "text/html": [
       "<style>#sk-container-id-1 {color: black;}#sk-container-id-1 pre{padding: 0;}#sk-container-id-1 div.sk-toggleable {background-color: white;}#sk-container-id-1 label.sk-toggleable__label {cursor: pointer;display: block;width: 100%;margin-bottom: 0;padding: 0.3em;box-sizing: border-box;text-align: center;}#sk-container-id-1 label.sk-toggleable__label-arrow:before {content: \"▸\";float: left;margin-right: 0.25em;color: #696969;}#sk-container-id-1 label.sk-toggleable__label-arrow:hover:before {color: black;}#sk-container-id-1 div.sk-estimator:hover label.sk-toggleable__label-arrow:before {color: black;}#sk-container-id-1 div.sk-toggleable__content {max-height: 0;max-width: 0;overflow: hidden;text-align: left;background-color: #f0f8ff;}#sk-container-id-1 div.sk-toggleable__content pre {margin: 0.2em;color: black;border-radius: 0.25em;background-color: #f0f8ff;}#sk-container-id-1 input.sk-toggleable__control:checked~div.sk-toggleable__content {max-height: 200px;max-width: 100%;overflow: auto;}#sk-container-id-1 input.sk-toggleable__control:checked~label.sk-toggleable__label-arrow:before {content: \"▾\";}#sk-container-id-1 div.sk-estimator input.sk-toggleable__control:checked~label.sk-toggleable__label {background-color: #d4ebff;}#sk-container-id-1 div.sk-label input.sk-toggleable__control:checked~label.sk-toggleable__label {background-color: #d4ebff;}#sk-container-id-1 input.sk-hidden--visually {border: 0;clip: rect(1px 1px 1px 1px);clip: rect(1px, 1px, 1px, 1px);height: 1px;margin: -1px;overflow: hidden;padding: 0;position: absolute;width: 1px;}#sk-container-id-1 div.sk-estimator {font-family: monospace;background-color: #f0f8ff;border: 1px dotted black;border-radius: 0.25em;box-sizing: border-box;margin-bottom: 0.5em;}#sk-container-id-1 div.sk-estimator:hover {background-color: #d4ebff;}#sk-container-id-1 div.sk-parallel-item::after {content: \"\";width: 100%;border-bottom: 1px solid gray;flex-grow: 1;}#sk-container-id-1 div.sk-label:hover label.sk-toggleable__label {background-color: #d4ebff;}#sk-container-id-1 div.sk-serial::before {content: \"\";position: absolute;border-left: 1px solid gray;box-sizing: border-box;top: 0;bottom: 0;left: 50%;z-index: 0;}#sk-container-id-1 div.sk-serial {display: flex;flex-direction: column;align-items: center;background-color: white;padding-right: 0.2em;padding-left: 0.2em;position: relative;}#sk-container-id-1 div.sk-item {position: relative;z-index: 1;}#sk-container-id-1 div.sk-parallel {display: flex;align-items: stretch;justify-content: center;background-color: white;position: relative;}#sk-container-id-1 div.sk-item::before, #sk-container-id-1 div.sk-parallel-item::before {content: \"\";position: absolute;border-left: 1px solid gray;box-sizing: border-box;top: 0;bottom: 0;left: 50%;z-index: -1;}#sk-container-id-1 div.sk-parallel-item {display: flex;flex-direction: column;z-index: 1;position: relative;background-color: white;}#sk-container-id-1 div.sk-parallel-item:first-child::after {align-self: flex-end;width: 50%;}#sk-container-id-1 div.sk-parallel-item:last-child::after {align-self: flex-start;width: 50%;}#sk-container-id-1 div.sk-parallel-item:only-child::after {width: 0;}#sk-container-id-1 div.sk-dashed-wrapped {border: 1px dashed gray;margin: 0 0.4em 0.5em 0.4em;box-sizing: border-box;padding-bottom: 0.4em;background-color: white;}#sk-container-id-1 div.sk-label label {font-family: monospace;font-weight: bold;display: inline-block;line-height: 1.2em;}#sk-container-id-1 div.sk-label-container {text-align: center;}#sk-container-id-1 div.sk-container {/* jupyter's `normalize.less` sets `[hidden] { display: none; }` but bootstrap.min.css set `[hidden] { display: none !important; }` so we also need the `!important` here to be able to override the default hidden behavior on the sphinx rendered scikit-learn.org. See: https://github.com/scikit-learn/scikit-learn/issues/21755 */display: inline-block !important;position: relative;}#sk-container-id-1 div.sk-text-repr-fallback {display: none;}</style><div id=\"sk-container-id-1\" class=\"sk-top-container\"><div class=\"sk-text-repr-fallback\"><pre>XGBClassifier(base_score=None, booster=None, callbacks=None,\n",
       "              colsample_bylevel=None, colsample_bynode=None,\n",
       "              colsample_bytree=None, device=None, early_stopping_rounds=5,\n",
       "              enable_categorical=False, eval_metric=[&#x27;merror&#x27;, &#x27;mlogloss&#x27;],\n",
       "              feature_types=None, gamma=None, grow_policy=None,\n",
       "              importance_type=None, interaction_constraints=None,\n",
       "              learning_rate=0.1, max_bin=None, max_cat_threshold=None,\n",
       "              max_cat_to_onehot=None, max_delta_step=None, max_depth=6,\n",
       "              max_leaves=None, min_child_weight=None, missing=nan,\n",
       "              monotone_constraints=None, multi_strategy=None, n_estimators=100,\n",
       "              n_jobs=None, num_parallel_tree=None,\n",
       "              objective=&lt;bound method DefaultSoftprob.softprob_obj of &lt;__main__.DefaultSoftprob object at 0x13ad22e20&gt;&gt;, ...)</pre><b>In a Jupyter environment, please rerun this cell to show the HTML representation or trust the notebook. <br />On GitHub, the HTML representation is unable to render, please try loading this page with nbviewer.org.</b></div><div class=\"sk-container\" hidden><div class=\"sk-item\"><div class=\"sk-estimator sk-toggleable\"><input class=\"sk-toggleable__control sk-hidden--visually\" id=\"sk-estimator-id-1\" type=\"checkbox\" checked><label for=\"sk-estimator-id-1\" class=\"sk-toggleable__label sk-toggleable__label-arrow\">XGBClassifier</label><div class=\"sk-toggleable__content\"><pre>XGBClassifier(base_score=None, booster=None, callbacks=None,\n",
       "              colsample_bylevel=None, colsample_bynode=None,\n",
       "              colsample_bytree=None, device=None, early_stopping_rounds=5,\n",
       "              enable_categorical=False, eval_metric=[&#x27;merror&#x27;, &#x27;mlogloss&#x27;],\n",
       "              feature_types=None, gamma=None, grow_policy=None,\n",
       "              importance_type=None, interaction_constraints=None,\n",
       "              learning_rate=0.1, max_bin=None, max_cat_threshold=None,\n",
       "              max_cat_to_onehot=None, max_delta_step=None, max_depth=6,\n",
       "              max_leaves=None, min_child_weight=None, missing=nan,\n",
       "              monotone_constraints=None, multi_strategy=None, n_estimators=100,\n",
       "              n_jobs=None, num_parallel_tree=None,\n",
       "              objective=&lt;bound method DefaultSoftprob.softprob_obj of &lt;__main__.DefaultSoftprob object at 0x13ad22e20&gt;&gt;, ...)</pre></div></div></div></div></div>"
      ],
      "text/plain": [
       "XGBClassifier(base_score=None, booster=None, callbacks=None,\n",
       "              colsample_bylevel=None, colsample_bynode=None,\n",
       "              colsample_bytree=None, device=None, early_stopping_rounds=5,\n",
       "              enable_categorical=False, eval_metric=['merror', 'mlogloss'],\n",
       "              feature_types=None, gamma=None, grow_policy=None,\n",
       "              importance_type=None, interaction_constraints=None,\n",
       "              learning_rate=0.1, max_bin=None, max_cat_threshold=None,\n",
       "              max_cat_to_onehot=None, max_delta_step=None, max_depth=6,\n",
       "              max_leaves=None, min_child_weight=None, missing=nan,\n",
       "              monotone_constraints=None, multi_strategy=None, n_estimators=100,\n",
       "              n_jobs=None, num_parallel_tree=None,\n",
       "              objective=<bound method DefaultSoftprob.softprob_obj of <__main__.DefaultSoftprob object at 0x13ad22e20>>, ...)"
      ]
     },
     "execution_count": 10,
     "metadata": {},
     "output_type": "execute_result"
    }
   ],
   "source": [
    "default_loss = DefaultSoftprob(labels = y_train)\n",
    "\n",
    "params = {'max_depth': 6,\n",
    "          'learning_rate': 0.1,\n",
    "          'n_estimators': 100,\n",
    "          \"eval_metric\":[\"merror\", \"mlogloss\"],\n",
    "          \"objective\": default_loss.softprob_obj,\n",
    "          \"early_stopping_rounds\": 5,\n",
    "          \"random_state\":42}\n",
    "\n",
    "evals = [(x_test, y_test)]\n",
    "\n",
    "xgb = XGBClassifier(**params)\n",
    "xgb.fit(x_train, y_train, eval_set=evals, verbose=10)"
   ]
  },
  {
   "cell_type": "markdown",
   "id": "efc2ce48",
   "metadata": {},
   "source": [
    "## prediction & evaluation"
   ]
  },
  {
   "cell_type": "code",
   "execution_count": 11,
   "id": "2d3720a9",
   "metadata": {},
   "outputs": [],
   "source": [
    "pred = xgb.predict(x_test)"
   ]
  },
  {
   "cell_type": "code",
   "execution_count": 12,
   "id": "994d4287",
   "metadata": {},
   "outputs": [
    {
     "name": "stdout",
     "output_type": "stream",
     "text": [
      "precision : 0.9333333333333333\n",
      "recall : 0.9333333333333333\n",
      "f1 : 0.9333333333333333\n"
     ]
    }
   ],
   "source": [
    "precision = precision_score(y_test, pred, average='micro')\n",
    "recall = recall_score(y_test, pred, average='micro')\n",
    "f1 = f1_score(y_test, pred, average='micro')\n",
    "\n",
    "print(f'precision : {precision}')\n",
    "print(f'recall : {recall}')\n",
    "print(f'f1 : {f1}')"
   ]
  }
 ],
 "metadata": {
  "kernelspec": {
   "display_name": "Python 3 (ipykernel)",
   "language": "python",
   "name": "python3"
  },
  "language_info": {
   "codemirror_mode": {
    "name": "ipython",
    "version": 3
   },
   "file_extension": ".py",
   "mimetype": "text/x-python",
   "name": "python",
   "nbconvert_exporter": "python",
   "pygments_lexer": "ipython3",
   "version": "3.8.17"
  }
 },
 "nbformat": 4,
 "nbformat_minor": 5
}
