{
 "cells": [
  {
   "cell_type": "markdown",
   "metadata": {
    "id": "ziBPzVMsPks3"
   },
   "source": [
    "# Personal Loan data\n",
    "* Data from: [Personal Loan](https://www.kaggle.com/itsmesunil/bank-loan-modelling)  \n",
    "Personal Loan 데이터는 고객을 더 늘리고자 하는 가상의 은행 데이터이다.  \n",
    "이 회사의 경영진은 부채를 가진 고객을 개인 대출 고객으로 전환하는 방법을 모색하려고 한다.\n",
    "\n",
    "\n",
    "- 금융 회사에서 흔히 볼 수 있는 기본적인 데이터이며, 목적을 가진 데이터\n",
    "- 간단한 로지스틱 회귀 분석을 통해 모델링을 해보고, 결과를 분석"
   ]
  },
  {
   "cell_type": "markdown",
   "metadata": {
    "id": "2gXycufmPvUQ"
   },
   "source": [
    "## 1.데이터 둘러보기"
   ]
  },
  {
   "cell_type": "code",
   "execution_count": 1,
   "metadata": {},
   "outputs": [],
   "source": [
    "import pandas as pd\n",
    "import numpy as np\n",
    "import matplotlib.pyplot as plt\n",
    "import seaborn as sns"
   ]
  },
  {
   "cell_type": "code",
   "execution_count": 4,
   "metadata": {},
   "outputs": [],
   "source": [
    "plt.style.use('seaborn')\n",
    "sns.set(font_scale=1)\n",
    "# 한글 처리\n",
    "plt.rc('font', family = 'NanumGothic')\n",
    "# 음수 처리\n",
    "plt.rc('axes', unicode_minus = False)"
   ]
  },
  {
   "cell_type": "code",
   "execution_count": 9,
   "metadata": {},
   "outputs": [],
   "source": [
    "import warnings\n",
    "warnings.simplefilter('ignore')"
   ]
  },
  {
   "cell_type": "code",
   "execution_count": 15,
   "metadata": {},
   "outputs": [
    {
     "data": {
      "text/html": [
       "<div>\n",
       "<style scoped>\n",
       "    .dataframe tbody tr th:only-of-type {\n",
       "        vertical-align: middle;\n",
       "    }\n",
       "\n",
       "    .dataframe tbody tr th {\n",
       "        vertical-align: top;\n",
       "    }\n",
       "\n",
       "    .dataframe thead th {\n",
       "        text-align: right;\n",
       "    }\n",
       "</style>\n",
       "<table border=\"1\" class=\"dataframe\">\n",
       "  <thead>\n",
       "    <tr style=\"text-align: right;\">\n",
       "      <th></th>\n",
       "      <th>ID</th>\n",
       "      <th>Age</th>\n",
       "      <th>Experience</th>\n",
       "      <th>Income</th>\n",
       "      <th>ZIP Code</th>\n",
       "      <th>Family</th>\n",
       "      <th>CCAvg</th>\n",
       "      <th>Education</th>\n",
       "      <th>Mortgage</th>\n",
       "      <th>Personal Loan</th>\n",
       "      <th>Securities Account</th>\n",
       "      <th>CD Account</th>\n",
       "      <th>Online</th>\n",
       "      <th>CreditCard</th>\n",
       "    </tr>\n",
       "  </thead>\n",
       "  <tbody>\n",
       "    <tr>\n",
       "      <th>0</th>\n",
       "      <td>1</td>\n",
       "      <td>25</td>\n",
       "      <td>1</td>\n",
       "      <td>49</td>\n",
       "      <td>91107</td>\n",
       "      <td>4</td>\n",
       "      <td>1.6</td>\n",
       "      <td>1</td>\n",
       "      <td>0</td>\n",
       "      <td>0</td>\n",
       "      <td>1</td>\n",
       "      <td>0</td>\n",
       "      <td>0</td>\n",
       "      <td>0</td>\n",
       "    </tr>\n",
       "    <tr>\n",
       "      <th>1</th>\n",
       "      <td>2</td>\n",
       "      <td>45</td>\n",
       "      <td>19</td>\n",
       "      <td>34</td>\n",
       "      <td>90089</td>\n",
       "      <td>3</td>\n",
       "      <td>1.5</td>\n",
       "      <td>1</td>\n",
       "      <td>0</td>\n",
       "      <td>0</td>\n",
       "      <td>1</td>\n",
       "      <td>0</td>\n",
       "      <td>0</td>\n",
       "      <td>0</td>\n",
       "    </tr>\n",
       "    <tr>\n",
       "      <th>2</th>\n",
       "      <td>3</td>\n",
       "      <td>39</td>\n",
       "      <td>15</td>\n",
       "      <td>11</td>\n",
       "      <td>94720</td>\n",
       "      <td>1</td>\n",
       "      <td>1.0</td>\n",
       "      <td>1</td>\n",
       "      <td>0</td>\n",
       "      <td>0</td>\n",
       "      <td>0</td>\n",
       "      <td>0</td>\n",
       "      <td>0</td>\n",
       "      <td>0</td>\n",
       "    </tr>\n",
       "    <tr>\n",
       "      <th>3</th>\n",
       "      <td>4</td>\n",
       "      <td>35</td>\n",
       "      <td>9</td>\n",
       "      <td>100</td>\n",
       "      <td>94112</td>\n",
       "      <td>1</td>\n",
       "      <td>2.7</td>\n",
       "      <td>2</td>\n",
       "      <td>0</td>\n",
       "      <td>0</td>\n",
       "      <td>0</td>\n",
       "      <td>0</td>\n",
       "      <td>0</td>\n",
       "      <td>0</td>\n",
       "    </tr>\n",
       "    <tr>\n",
       "      <th>4</th>\n",
       "      <td>5</td>\n",
       "      <td>35</td>\n",
       "      <td>8</td>\n",
       "      <td>45</td>\n",
       "      <td>91330</td>\n",
       "      <td>4</td>\n",
       "      <td>1.0</td>\n",
       "      <td>2</td>\n",
       "      <td>0</td>\n",
       "      <td>0</td>\n",
       "      <td>0</td>\n",
       "      <td>0</td>\n",
       "      <td>0</td>\n",
       "      <td>1</td>\n",
       "    </tr>\n",
       "  </tbody>\n",
       "</table>\n",
       "</div>"
      ],
      "text/plain": [
       "   ID  Age  Experience  Income  ZIP Code  Family  CCAvg  Education  Mortgage  \\\n",
       "0   1   25           1      49     91107       4    1.6          1         0   \n",
       "1   2   45          19      34     90089       3    1.5          1         0   \n",
       "2   3   39          15      11     94720       1    1.0          1         0   \n",
       "3   4   35           9     100     94112       1    2.7          2         0   \n",
       "4   5   35           8      45     91330       4    1.0          2         0   \n",
       "\n",
       "   Personal Loan  Securities Account  CD Account  Online  CreditCard  \n",
       "0              0                   1           0       0           0  \n",
       "1              0                   1           0       0           0  \n",
       "2              0                   0           0       0           0  \n",
       "3              0                   0           0       0           0  \n",
       "4              0                   0           0       0           1  "
      ]
     },
     "execution_count": 15,
     "metadata": {},
     "output_type": "execute_result"
    }
   ],
   "source": [
    "bank = pd.read_csv('./dataset/Personal Loan.csv')\n",
    "bank.head()"
   ]
  },
  {
   "cell_type": "markdown",
   "metadata": {
    "id": "KXuwQVyrP-Bd"
   },
   "source": [
    "<컬럼 설명>\n",
    "\n",
    "* ID: 고객 번호\n",
    "* Age: 나이\n",
    "* Experience:   \n",
    "* Income: 연간 수입(000)  \n",
    "* Zipcode: 우편번호  \n",
    "* Family: 가족 구성원 수\n",
    "* CCAvg: 신용카드 월평균 이용 금액(000)  \n",
    "* Education: 학력(1: Undergrad, 2: Graduate, 3: Advanced/Professional)\n",
    "* Mortgage: 주택 담보 대출 금액(000)\n",
    "* Personal Loan: 지난번 영업에서 고객이 개인대출을 받았는가?(0: N, 1: Y)  \n",
    "* Securities Account: 보험 유무(0: N, 1: Y)  \n",
    "* CD Account:양도성 예금증서 보유 유무(0: N, 1: Y)  \n",
    "* Online: 온라인 뱅킹 유무(0: N, 1: Y)\n",
    "* Credit Card: 신용카드 보유 유무(0: N, 1: Y)\n"
   ]
  },
  {
   "cell_type": "markdown",
   "metadata": {
    "id": "E8CxrBd8P8o_"
   },
   "source": [
    "* 범주형 변수: *빈도frequency 계산 가능*\n",
    "               ID, zipcode, educaiont, personal loan, securities account, cd account, online, credit card\n",
    "* 연속형 변수: *평균, 표준편차, min/max 등 수치 계산 가능*\n",
    "               age, experience, income, family, ccavg, mortgage"
   ]
  },
  {
   "cell_type": "code",
   "execution_count": 16,
   "metadata": {},
   "outputs": [
    {
     "name": "stdout",
     "output_type": "stream",
     "text": [
      "<class 'pandas.core.frame.DataFrame'>\n",
      "RangeIndex: 2500 entries, 0 to 2499\n",
      "Data columns (total 14 columns):\n",
      " #   Column              Non-Null Count  Dtype  \n",
      "---  ------              --------------  -----  \n",
      " 0   ID                  2500 non-null   int64  \n",
      " 1   Age                 2500 non-null   int64  \n",
      " 2   Experience          2500 non-null   int64  \n",
      " 3   Income              2500 non-null   int64  \n",
      " 4   ZIP Code            2500 non-null   int64  \n",
      " 5   Family              2500 non-null   int64  \n",
      " 6   CCAvg               2500 non-null   float64\n",
      " 7   Education           2500 non-null   int64  \n",
      " 8   Mortgage            2500 non-null   int64  \n",
      " 9   Personal Loan       2500 non-null   int64  \n",
      " 10  Securities Account  2500 non-null   int64  \n",
      " 11  CD Account          2500 non-null   int64  \n",
      " 12  Online              2500 non-null   int64  \n",
      " 13  CreditCard          2500 non-null   int64  \n",
      "dtypes: float64(1), int64(13)\n",
      "memory usage: 273.6 KB\n"
     ]
    }
   ],
   "source": [
    "bank.info()"
   ]
  },
  {
   "cell_type": "code",
   "execution_count": 22,
   "metadata": {},
   "outputs": [
    {
     "name": "stdout",
     "output_type": "stream",
     "text": [
      "Education  [1 2 3]\n",
      "Personal Loan  [0 1]\n",
      "Securities Account  [1 0]\n",
      "CD Account   [0 1]\n",
      "Online  [0 1]\n",
      "CreditCard  [0 1]\n"
     ]
    }
   ],
   "source": [
    "print('Education ',bank['Education'].unique())\n",
    "print('Personal Loan ',bank['Personal Loan'].unique())\n",
    "print('Securities Account ',bank['Securities Account'].unique())\n",
    "print('CD Account  ',bank['CD Account'].unique())\n",
    "print('Online ',bank['Online'].unique())\n",
    "print('CreditCard ',bank['CreditCard'].unique())"
   ]
  },
  {
   "cell_type": "code",
   "execution_count": 24,
   "metadata": {
    "scrolled": true
   },
   "outputs": [
    {
     "data": {
      "text/html": [
       "<div>\n",
       "<style scoped>\n",
       "    .dataframe tbody tr th:only-of-type {\n",
       "        vertical-align: middle;\n",
       "    }\n",
       "\n",
       "    .dataframe tbody tr th {\n",
       "        vertical-align: top;\n",
       "    }\n",
       "\n",
       "    .dataframe thead th {\n",
       "        text-align: right;\n",
       "    }\n",
       "</style>\n",
       "<table border=\"1\" class=\"dataframe\">\n",
       "  <thead>\n",
       "    <tr style=\"text-align: right;\">\n",
       "      <th></th>\n",
       "      <th>count</th>\n",
       "      <th>mean</th>\n",
       "      <th>std</th>\n",
       "      <th>min</th>\n",
       "      <th>25%</th>\n",
       "      <th>50%</th>\n",
       "      <th>75%</th>\n",
       "      <th>max</th>\n",
       "    </tr>\n",
       "  </thead>\n",
       "  <tbody>\n",
       "    <tr>\n",
       "      <th>ID</th>\n",
       "      <td>2500.0</td>\n",
       "      <td>1250.500000</td>\n",
       "      <td>721.832160</td>\n",
       "      <td>1.0</td>\n",
       "      <td>625.75</td>\n",
       "      <td>1250.5</td>\n",
       "      <td>1875.25</td>\n",
       "      <td>2500.0</td>\n",
       "    </tr>\n",
       "    <tr>\n",
       "      <th>Age</th>\n",
       "      <td>2500.0</td>\n",
       "      <td>45.346000</td>\n",
       "      <td>11.519521</td>\n",
       "      <td>23.0</td>\n",
       "      <td>35.00</td>\n",
       "      <td>45.0</td>\n",
       "      <td>55.00</td>\n",
       "      <td>67.0</td>\n",
       "    </tr>\n",
       "    <tr>\n",
       "      <th>Experience</th>\n",
       "      <td>2500.0</td>\n",
       "      <td>20.120800</td>\n",
       "      <td>11.523824</td>\n",
       "      <td>-2.0</td>\n",
       "      <td>10.00</td>\n",
       "      <td>20.0</td>\n",
       "      <td>30.00</td>\n",
       "      <td>42.0</td>\n",
       "    </tr>\n",
       "    <tr>\n",
       "      <th>Income</th>\n",
       "      <td>2500.0</td>\n",
       "      <td>74.447200</td>\n",
       "      <td>46.672400</td>\n",
       "      <td>8.0</td>\n",
       "      <td>39.00</td>\n",
       "      <td>64.0</td>\n",
       "      <td>99.25</td>\n",
       "      <td>205.0</td>\n",
       "    </tr>\n",
       "    <tr>\n",
       "      <th>ZIP Code</th>\n",
       "      <td>2500.0</td>\n",
       "      <td>93135.691600</td>\n",
       "      <td>2420.763339</td>\n",
       "      <td>9307.0</td>\n",
       "      <td>92007.00</td>\n",
       "      <td>93407.0</td>\n",
       "      <td>94609.00</td>\n",
       "      <td>96651.0</td>\n",
       "    </tr>\n",
       "    <tr>\n",
       "      <th>Family</th>\n",
       "      <td>2500.0</td>\n",
       "      <td>2.408000</td>\n",
       "      <td>1.159860</td>\n",
       "      <td>1.0</td>\n",
       "      <td>1.00</td>\n",
       "      <td>2.0</td>\n",
       "      <td>4.00</td>\n",
       "      <td>4.0</td>\n",
       "    </tr>\n",
       "    <tr>\n",
       "      <th>CCAvg</th>\n",
       "      <td>2500.0</td>\n",
       "      <td>1.951284</td>\n",
       "      <td>1.795449</td>\n",
       "      <td>0.0</td>\n",
       "      <td>0.70</td>\n",
       "      <td>1.5</td>\n",
       "      <td>2.50</td>\n",
       "      <td>10.0</td>\n",
       "    </tr>\n",
       "    <tr>\n",
       "      <th>Education</th>\n",
       "      <td>2500.0</td>\n",
       "      <td>1.865600</td>\n",
       "      <td>0.836550</td>\n",
       "      <td>1.0</td>\n",
       "      <td>1.00</td>\n",
       "      <td>2.0</td>\n",
       "      <td>3.00</td>\n",
       "      <td>3.0</td>\n",
       "    </tr>\n",
       "    <tr>\n",
       "      <th>Mortgage</th>\n",
       "      <td>2500.0</td>\n",
       "      <td>57.388400</td>\n",
       "      <td>100.816403</td>\n",
       "      <td>0.0</td>\n",
       "      <td>0.00</td>\n",
       "      <td>0.0</td>\n",
       "      <td>104.00</td>\n",
       "      <td>617.0</td>\n",
       "    </tr>\n",
       "    <tr>\n",
       "      <th>Personal Loan</th>\n",
       "      <td>2500.0</td>\n",
       "      <td>0.102400</td>\n",
       "      <td>0.303234</td>\n",
       "      <td>0.0</td>\n",
       "      <td>0.00</td>\n",
       "      <td>0.0</td>\n",
       "      <td>0.00</td>\n",
       "      <td>1.0</td>\n",
       "    </tr>\n",
       "    <tr>\n",
       "      <th>Securities Account</th>\n",
       "      <td>2500.0</td>\n",
       "      <td>0.109600</td>\n",
       "      <td>0.312453</td>\n",
       "      <td>0.0</td>\n",
       "      <td>0.00</td>\n",
       "      <td>0.0</td>\n",
       "      <td>0.00</td>\n",
       "      <td>1.0</td>\n",
       "    </tr>\n",
       "    <tr>\n",
       "      <th>CD Account</th>\n",
       "      <td>2500.0</td>\n",
       "      <td>0.062400</td>\n",
       "      <td>0.241929</td>\n",
       "      <td>0.0</td>\n",
       "      <td>0.00</td>\n",
       "      <td>0.0</td>\n",
       "      <td>0.00</td>\n",
       "      <td>1.0</td>\n",
       "    </tr>\n",
       "    <tr>\n",
       "      <th>Online</th>\n",
       "      <td>2500.0</td>\n",
       "      <td>0.597600</td>\n",
       "      <td>0.490480</td>\n",
       "      <td>0.0</td>\n",
       "      <td>0.00</td>\n",
       "      <td>1.0</td>\n",
       "      <td>1.00</td>\n",
       "      <td>1.0</td>\n",
       "    </tr>\n",
       "    <tr>\n",
       "      <th>CreditCard</th>\n",
       "      <td>2500.0</td>\n",
       "      <td>0.290400</td>\n",
       "      <td>0.454038</td>\n",
       "      <td>0.0</td>\n",
       "      <td>0.00</td>\n",
       "      <td>0.0</td>\n",
       "      <td>1.00</td>\n",
       "      <td>1.0</td>\n",
       "    </tr>\n",
       "  </tbody>\n",
       "</table>\n",
       "</div>"
      ],
      "text/plain": [
       "                     count          mean          std     min       25%  \\\n",
       "ID                  2500.0   1250.500000   721.832160     1.0    625.75   \n",
       "Age                 2500.0     45.346000    11.519521    23.0     35.00   \n",
       "Experience          2500.0     20.120800    11.523824    -2.0     10.00   \n",
       "Income              2500.0     74.447200    46.672400     8.0     39.00   \n",
       "ZIP Code            2500.0  93135.691600  2420.763339  9307.0  92007.00   \n",
       "Family              2500.0      2.408000     1.159860     1.0      1.00   \n",
       "CCAvg               2500.0      1.951284     1.795449     0.0      0.70   \n",
       "Education           2500.0      1.865600     0.836550     1.0      1.00   \n",
       "Mortgage            2500.0     57.388400   100.816403     0.0      0.00   \n",
       "Personal Loan       2500.0      0.102400     0.303234     0.0      0.00   \n",
       "Securities Account  2500.0      0.109600     0.312453     0.0      0.00   \n",
       "CD Account          2500.0      0.062400     0.241929     0.0      0.00   \n",
       "Online              2500.0      0.597600     0.490480     0.0      0.00   \n",
       "CreditCard          2500.0      0.290400     0.454038     0.0      0.00   \n",
       "\n",
       "                        50%       75%      max  \n",
       "ID                   1250.5   1875.25   2500.0  \n",
       "Age                    45.0     55.00     67.0  \n",
       "Experience             20.0     30.00     42.0  \n",
       "Income                 64.0     99.25    205.0  \n",
       "ZIP Code            93407.0  94609.00  96651.0  \n",
       "Family                  2.0      4.00      4.0  \n",
       "CCAvg                   1.5      2.50     10.0  \n",
       "Education               2.0      3.00      3.0  \n",
       "Mortgage                0.0    104.00    617.0  \n",
       "Personal Loan           0.0      0.00      1.0  \n",
       "Securities Account      0.0      0.00      1.0  \n",
       "CD Account              0.0      0.00      1.0  \n",
       "Online                  1.0      1.00      1.0  \n",
       "CreditCard              0.0      1.00      1.0  "
      ]
     },
     "execution_count": 24,
     "metadata": {},
     "output_type": "execute_result"
    }
   ],
   "source": [
    "bank.describe().T"
   ]
  },
  {
   "cell_type": "code",
   "execution_count": 25,
   "metadata": {},
   "outputs": [
    {
     "name": "stdout",
     "output_type": "stream",
     "text": [
      "총 데이터 수 : 35000\n",
      "고객 나이는 23세부터 67세까지 있으며, 평균 나이는 45.3세이다\n"
     ]
    }
   ],
   "source": [
    "print('총 데이터 수 :',bank.shape[0] * bank.shape[1])\n",
    "print('고객 나이는 {}세부터 {}세까지 있으며, 평균 나이는 {:.1f}세이다'.format(bank['Age'].min(), bank['Age'].max(), bank['Age'].mean()))"
   ]
  },
  {
   "cell_type": "markdown",
   "metadata": {
    "id": "JNpwP5AKZ9G6"
   },
   "source": [
    "## 3.데이터 정비하기"
   ]
  },
  {
   "cell_type": "markdown",
   "metadata": {
    "id": "xyXu15R-Z9sr"
   },
   "source": [
    "### 3-1. 컬럼명 바꾸기"
   ]
  },
  {
   "cell_type": "code",
   "execution_count": null,
   "metadata": {},
   "outputs": [],
   "source": []
  },
  {
   "cell_type": "code",
   "execution_count": null,
   "metadata": {},
   "outputs": [],
   "source": []
  },
  {
   "cell_type": "code",
   "execution_count": null,
   "metadata": {},
   "outputs": [],
   "source": []
  },
  {
   "cell_type": "markdown",
   "metadata": {
    "id": "GazAqikW87eH"
   },
   "source": [
    "### 3-2. 필요없는 컬럼 제거"
   ]
  },
  {
   "cell_type": "code",
   "execution_count": null,
   "metadata": {},
   "outputs": [],
   "source": []
  },
  {
   "cell_type": "code",
   "execution_count": null,
   "metadata": {},
   "outputs": [],
   "source": []
  },
  {
   "cell_type": "code",
   "execution_count": null,
   "metadata": {},
   "outputs": [],
   "source": []
  },
  {
   "cell_type": "code",
   "execution_count": null,
   "metadata": {},
   "outputs": [],
   "source": []
  },
  {
   "cell_type": "markdown",
   "metadata": {
    "id": "42kOwzrCZ3mm"
   },
   "source": [
    "## 2.질문하기\n",
    "\n",
    "* 수입/월평균신용카드사용량/가족인원수와 대출 사이의 관계는?\n",
    "* 월 평균 사용 금액을 구간화 해서 특징을 볼 수 있을까?\n",
    "* 로지스틱 회귀 분석을 사용해서 신규 고객의 대출여부를 예측하는 모델 만들기\n"
   ]
  },
  {
   "cell_type": "markdown",
   "metadata": {
    "id": "2pTlwIs6alAC"
   },
   "source": [
    "## 4.EDA & Visualization"
   ]
  },
  {
   "cell_type": "markdown",
   "metadata": {
    "id": "3QQQJVaZanW5"
   },
   "source": [
    "### 4-1. 간단한 분석"
   ]
  },
  {
   "cell_type": "code",
   "execution_count": null,
   "metadata": {},
   "outputs": [],
   "source": []
  },
  {
   "cell_type": "code",
   "execution_count": null,
   "metadata": {},
   "outputs": [],
   "source": []
  },
  {
   "cell_type": "code",
   "execution_count": null,
   "metadata": {},
   "outputs": [],
   "source": []
  },
  {
   "cell_type": "code",
   "execution_count": null,
   "metadata": {},
   "outputs": [],
   "source": []
  },
  {
   "cell_type": "markdown",
   "metadata": {
    "id": "4bP2p6gkdb9d"
   },
   "source": [
    "### 변수의 분포 확인하기"
   ]
  },
  {
   "cell_type": "code",
   "execution_count": null,
   "metadata": {},
   "outputs": [],
   "source": []
  },
  {
   "cell_type": "code",
   "execution_count": null,
   "metadata": {},
   "outputs": [],
   "source": []
  },
  {
   "cell_type": "code",
   "execution_count": null,
   "metadata": {},
   "outputs": [],
   "source": []
  },
  {
   "cell_type": "code",
   "execution_count": null,
   "metadata": {},
   "outputs": [],
   "source": []
  },
  {
   "cell_type": "markdown",
   "metadata": {
    "id": "CEIyq0xv3n_w"
   },
   "source": [
    "### 변수 간 상관관계 파악하기"
   ]
  },
  {
   "cell_type": "code",
   "execution_count": null,
   "metadata": {},
   "outputs": [],
   "source": []
  },
  {
   "cell_type": "code",
   "execution_count": null,
   "metadata": {},
   "outputs": [],
   "source": []
  },
  {
   "cell_type": "code",
   "execution_count": null,
   "metadata": {},
   "outputs": [],
   "source": []
  },
  {
   "cell_type": "markdown",
   "metadata": {
    "id": "LjoRXj3JUNLq"
   },
   "source": [
    "### 구간화 해서 그래프 그리기"
   ]
  },
  {
   "cell_type": "code",
   "execution_count": null,
   "metadata": {},
   "outputs": [],
   "source": []
  },
  {
   "cell_type": "code",
   "execution_count": null,
   "metadata": {},
   "outputs": [],
   "source": []
  },
  {
   "cell_type": "code",
   "execution_count": null,
   "metadata": {},
   "outputs": [],
   "source": []
  },
  {
   "cell_type": "markdown",
   "metadata": {
    "id": "ZWfXKwrAgnJB"
   },
   "source": [
    "## 로지스틱 회귀분석  \n",
    "로지스틱 회귀분석(Logistic regression):  \n",
    "종속변수와 독립변수 사이의 관계를 함수로 나타내어, 이 다음을 예측하는 방식.  \n",
    "독립변수 사이의 선형 결합으로 종속변수를 설명하는 것은 선형 회귀와 동일하지만, **종속변수가 범주형 데이터를 대상**으로 한다는 점이 다르다."
   ]
  },
  {
   "cell_type": "code",
   "execution_count": null,
   "metadata": {},
   "outputs": [],
   "source": []
  },
  {
   "cell_type": "code",
   "execution_count": null,
   "metadata": {},
   "outputs": [],
   "source": []
  },
  {
   "cell_type": "code",
   "execution_count": null,
   "metadata": {},
   "outputs": [],
   "source": []
  },
  {
   "cell_type": "code",
   "execution_count": null,
   "metadata": {
    "id": "hB65egX7-ZPZ"
   },
   "outputs": [],
   "source": []
  }
 ],
 "metadata": {
  "colab": {
   "authorship_tag": "ABX9TyPLCN62CdTydWN3MgbtZ7G3",
   "collapsed_sections": [],
   "name": "파이썬실습05_PersonalLoan_ex.ipynb",
   "provenance": [],
   "toc_visible": true
  },
  "hide_input": false,
  "kernelspec": {
   "display_name": "Python 3 (ipykernel)",
   "language": "python",
   "name": "python3"
  },
  "language_info": {
   "codemirror_mode": {
    "name": "ipython",
    "version": 3
   },
   "file_extension": ".py",
   "mimetype": "text/x-python",
   "name": "python",
   "nbconvert_exporter": "python",
   "pygments_lexer": "ipython3",
   "version": "3.9.12"
  },
  "toc": {
   "base_numbering": 1,
   "nav_menu": {},
   "number_sections": true,
   "sideBar": true,
   "skip_h1_title": false,
   "title_cell": "Table of Contents",
   "title_sidebar": "Contents",
   "toc_cell": false,
   "toc_position": {},
   "toc_section_display": true,
   "toc_window_display": false
  },
  "varInspector": {
   "cols": {
    "lenName": 16,
    "lenType": 16,
    "lenVar": 40
   },
   "kernels_config": {
    "python": {
     "delete_cmd_postfix": "",
     "delete_cmd_prefix": "del ",
     "library": "var_list.py",
     "varRefreshCmd": "print(var_dic_list())"
    },
    "r": {
     "delete_cmd_postfix": ") ",
     "delete_cmd_prefix": "rm(",
     "library": "var_list.r",
     "varRefreshCmd": "cat(var_dic_list()) "
    }
   },
   "types_to_exclude": [
    "module",
    "function",
    "builtin_function_or_method",
    "instance",
    "_Feature"
   ],
   "window_display": false
  }
 },
 "nbformat": 4,
 "nbformat_minor": 1
}
